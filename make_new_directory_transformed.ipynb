# 成功
# やっとできたわ！！！！！！！！！！！2(整数値になってる！)
import csv
import os

# 新しいディレクトリの作成（存在しない場合）
output_dir = 'new_directory_transformed'  # 任意の出力ディレクトリ
os.makedirs(output_dir, exist_ok=True)

# CSV ファイルを読み込み、各行を個別のファイルとして変換して保存する
with open('jsut_accent_onsoretu/onsoretu_re_re_fi_split.csv') as f:
    reader = csv.reader(f)
    for i, row in enumerate(reader):
        # 各行のすべての要素を「Accent」ヘッダーで一行に変換
        accent_data = row  # 各行をそのまま使う
        # 各行のカンマを削除して個別の行に変換
        accent_data = [str(value) for value in accent_data]
        output_file_path = os.path.join(output_dir, f'row_{i + 1}.csv')
        with open(output_file_path, 'w', newline='') as output_file:
            writer = csv.writer(output_file)
            writer.writerow(['Accent'])  # ヘッダー行
            for value in accent_data:
                writer.writerow([value])  # 各値を個別の行として書き込む
