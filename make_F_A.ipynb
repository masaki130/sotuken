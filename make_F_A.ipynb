# rinnaのhubertで音声の特徴量を抽出し、その後、アライメント毎に切り分けた特徴量を使用
# basic5000_jp_HuBERT_features_csvのMora列を削除し、アクセント列を追加し、rinna_F_Aに保存
# rinna_F_Aを作成

import os
import pandas as pd

# Directory paths
new_directory_transformed = 'new_directory_transformed'# Accent列が保存されてる
fix_output_wav2_features_csv = 'basic5000_jp_HuBERT_features_csv'
re_another_output_directory = 'rinna_F_A'

# Ensure the output directory exists
os.makedirs(re_another_output_directory, exist_ok=True)

# Iterate through each CSV file in the new directory
for filename in os.listdir(new_directory_transformed):
    if filename.endswith('.csv'):
        # Extract the row number from the filename
        row_num_str = filename.split('.')[0].split('_')[-1]

        # Format the row number as zero-padded integer (e.g., 001, 002, etc.)
        row_num_padded = f'{int(row_num_str):04d}'

        # Construct the full file paths
        transformed_filepath = os.path.join(new_directory_transformed, filename)
        feature_filepath = os.path.join(fix_output_wav2_features_csv, f'alignment_{row_num_padded}.csv')

        try:
            # Read the transformed CSV file
            df_transformed = pd.read_csv(transformed_filepath)

            # Read the feature CSV file and drop the Mora column
            df_features = pd.read_csv(feature_filepath).drop(columns=['Mora'])

            # Merge the Accent column with the features
            df_merged = pd.merge(df_features, df_transformed[['Accent']], left_index=True, right_index=True)

            # Construct the output file path in the re_another_output_directory
            output_filepath = os.path.join(re_another_output_directory, f'BASIC5000_{row_num_padded}_features.csv')

            # Save the merged data
            df_merged.to_csv(output_filepath, index=False)

        except FileNotFoundError:
            print(f'File not found: {feature_filepath}')
